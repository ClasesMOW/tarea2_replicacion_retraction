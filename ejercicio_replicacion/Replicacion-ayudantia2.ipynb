{
 "cells": [
  {
   "cell_type": "raw",
   "metadata": {},
   "source": [
    "---\n",
    "title: \"Tarea yudantia 2 - Ejericio de replicación\"\n",
    "subtitle: Dynamics of cross-platform attention to retracted papers\n",
    "format: html\n",
    "---"
   ]
  },
  {
   "attachments": {},
   "cell_type": "markdown",
   "metadata": {},
   "source": [
    "En esta ayudantía vamos a replicar el estudio [Dynamics of cross-platform attention to retracted papers](https://www.pnas.org/doi/10.1073/pnas.2119086119).\n",
    "\n",
    "Los autores pusieron a disposición de la comunidad un [repositorio en github](https://github.com/haoopeng/retraction_attention) con los datos procesados y los algoritmos usados para obtener los resultados de la investigación.\n",
    "\n",
    "\n",
    "Los autores usan tres fuentes de datos: \n",
    "\n",
    "-  Altmetric que se puede acceder por investigadores en https://www.altmetric.com/research-access/ \n",
    "\n",
    "-  The Retraction Watch database que está disponible para investigadores del The Center For Scientific Integrity  sujeto a un acuerdo de uso de datos  (detalles en https://retractionwatch.com/retraction-watch-database-user-guide/). \n",
    "\n",
    "-  The Microsoft Academic Graph is publicly available at https://www.microsoft.com/en-us/research/project/microsoft-academic-graph/ or https://www.microsoft.com/en-us/research/project/open-academic-graph/. \n",
    "  \n",
    "-  También usan datos de tweets.  Dado resguardo de la privacidad d elos usuarios, Twitter no permite compartir directamente el texto de los tweets. Para cumplir con este requerimiento, los autores proveen una identificación de los tweets como critical/uncritical. (https://developer.twitter.com/en/products/twitter-api/academic-research).\n",
    "\n",
    "\n",
    "Como vemos, varios de estos datos están sujetos a inscripcion de los investigadores y no pueden ser publicados directamente. Los autores ponen a nuestra disposición su código de trabajo (en una colección de notebooks), pero no los datos raw sino procesados.\n",
    "\n",
    "Con estos datos procesados, podemos replicar directamente las tablas de resultado del trabajo.  Para poder hacer el match nosotros, necesitaremos más datos de los que ellos nos han compartido.\n",
    "\n",
    "Nosotros haremos cuatro cosas:\n",
    "\n",
    "1. Replicar el match  por nuestra cuenta\n",
    "2. Estimar los resultados con nuestro match\n",
    "3. Replicar los resultados con el match de los autores\n",
    "4. Comparar los resultados de ambas estimaciones"
   ]
  },
  {
   "attachments": {},
   "cell_type": "markdown",
   "metadata": {},
   "source": [
    "# 1. Replicar el Match"
   ]
  },
  {
   "attachments": {},
   "cell_type": "markdown",
   "metadata": {},
   "source": [
    "# 2. Estimamos los resultados con nuestro match"
   ]
  },
  {
   "cell_type": "markdown",
   "metadata": {},
   "source": [
    "3. Replicar los resultados con el match de los autores"
   ]
  }
 ],
 "metadata": {
  "kernelspec": {
   "display_name": "Python 3",
   "language": "python",
   "name": "python3"
  },
  "language_info": {
   "codemirror_mode": {
    "name": "ipython",
    "version": 3
   },
   "file_extension": ".py",
   "mimetype": "text/x-python",
   "name": "python",
   "nbconvert_exporter": "python",
   "pygments_lexer": "ipython3",
   "version": "3.9.1 (default, Mar 13 2022, 21:46:45) \n[Clang 13.0.0 (clang-1300.0.29.30)]"
  },
  "orig_nbformat": 4,
  "vscode": {
   "interpreter": {
    "hash": "17dfb4daa127a6827b4be26463a92b2e3e6dc94bfc89beb40cfb34856b7781ab"
   }
  }
 },
 "nbformat": 4,
 "nbformat_minor": 2
}
